{
  "nbformat": 4,
  "nbformat_minor": 0,
  "metadata": {
    "colab": {
      "provenance": [],
      "collapsed_sections": []
    },
    "kernelspec": {
      "name": "python3",
      "display_name": "Python 3"
    },
    "language_info": {
      "name": "python"
    }
  },
  "cells": [
    {
      "cell_type": "markdown",
      "metadata": {
        "id": "2GwM0Mr0VNL3"
      },
      "source": [
        "This code is based on https://cutt.ly/uv5yddP"
      ]
    },
    {
      "cell_type": "code",
      "metadata": {
        "colab": {
          "base_uri": "https://localhost:8080/"
        },
        "id": "Gg7z0GFsT_rN",
        "outputId": "1623cf05-4d10-4ace-e31b-a3490546fcc1"
      },
      "source": [
        "!pip install pYDes"
      ],
      "execution_count": 1,
      "outputs": [
        {
          "output_type": "stream",
          "name": "stdout",
          "text": [
            "Looking in indexes: https://pypi.org/simple, https://us-python.pkg.dev/colab-wheels/public/simple/\n",
            "Requirement already satisfied: pYDes in /usr/local/lib/python3.7/dist-packages (2.0.1)\n"
          ]
        }
      ]
    },
    {
      "cell_type": "code",
      "metadata": {
        "id": "lzx0AupsUQTn"
      },
      "source": [
        "import pyDes"
      ],
      "execution_count": 2,
      "outputs": []
    },
    {
      "cell_type": "code",
      "metadata": {
        "id": "uujWwWB0UdQF"
      },
      "source": [
        "data = b\"Eu amo meu orientador\""
      ],
      "execution_count": 7,
      "outputs": []
    },
    {
      "cell_type": "code",
      "source": [
        "def pydes():\n",
        "  '''\n",
        "  Cria objeto a partiri da biblioteca\n",
        "  '''\n",
        "  return pyDes.des(\"DESCRYPT\", pyDes.CBC, b\"\\0\\0\\0\\0\\0\\0\\0\\0\", pad=None, padmode=pyDes.PAD_PKCS5)\n"
      ],
      "metadata": {
        "id": "_bYaPN0eY_CR"
      },
      "execution_count": 14,
      "outputs": []
    },
    {
      "cell_type": "code",
      "source": [
        "def encrypt(text, objK):\n",
        "  \n",
        "  '''\n",
        "  Responsável por criptografar uma variável tipo texto (String)\n",
        "  '''\n",
        "  return objK.encrypt(text)\n",
        "\n",
        "def decrypt(obj, objK):\n",
        "  '''\n",
        "  Responsável por descriptografar uma variável tipo texto (String)\n",
        "  '''\n",
        "  return objK.decrypt(obj)"
      ],
      "metadata": {
        "id": "W3FDVnO8c0Wc"
      },
      "execution_count": 24,
      "outputs": []
    },
    {
      "cell_type": "code",
      "source": [
        "objK = pydes()\n",
        "obj = encrypt(data, objK)  # Chamada da função - criptografa\n",
        "dec = decrypt(obj, objK)   # Chamada da função - descriptografa\n",
        "print(\"Encrypted: %r\" % obj)\n",
        "print(\"Decrypted: %r\" % dec)"
      ],
      "metadata": {
        "colab": {
          "base_uri": "https://localhost:8080/"
        },
        "id": "8UDHENyVZ2CE",
        "outputId": "b5626c7e-932d-4252-fd65-f4d97585fd40"
      },
      "execution_count": 25,
      "outputs": [
        {
          "output_type": "stream",
          "name": "stdout",
          "text": [
            "Encrypted: b'\\x9esT\\x0e.Hl\\x82\\x9a\\xa4\\x92\\xa7?\\xdf\\xe0\\xe9\\xc5\\xed\\x8f$U1\\xbf\\x18'\n",
            "Decrypted: b'Eu amo meu orientador'\n"
          ]
        }
      ]
    },
    {
      "cell_type": "code",
      "source": [],
      "metadata": {
        "id": "lUO1Ymt4nxqT"
      },
      "execution_count": 6,
      "outputs": []
    }
  ]
}
